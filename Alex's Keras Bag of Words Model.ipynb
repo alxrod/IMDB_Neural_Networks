{
 "cells": [
  {
   "cell_type": "code",
   "execution_count": 126,
   "metadata": {},
   "outputs": [],
   "source": [
    "import numpy as np\n",
    "import pickle\n",
    "from sklearn.model_selection import train_test_split\n",
    "import keras\n",
    "from keras.models import Sequential\n",
    "from keras.layers import Dense\n",
    "from sklearn.metrics import confusion_matrix"
   ]
  },
  {
   "cell_type": "code",
   "execution_count": 118,
   "metadata": {},
   "outputs": [],
   "source": [
    "with open('vectorized_reviews.pkl', 'rb') as f:\n",
    "    dataset = pickle.load(f)"
   ]
  },
  {
   "cell_type": "code",
   "execution_count": 119,
   "metadata": {},
   "outputs": [],
   "source": [
    "with open('vectorized_reviews_answers.pkl', 'rb') as f:\n",
    "    outputs = pickle.load(f)"
   ]
  },
  {
   "cell_type": "code",
   "execution_count": 120,
   "metadata": {},
   "outputs": [],
   "source": [
    "X = dataset[1500:]\n",
    "y = outputs[1500:]"
   ]
  },
  {
   "cell_type": "code",
   "execution_count": 121,
   "metadata": {},
   "outputs": [],
   "source": [
    "X_train, X_test, y_train, y_test = train_test_split(X, y, test_size = 0.2)"
   ]
  },
  {
   "cell_type": "code",
   "execution_count": 122,
   "metadata": {},
   "outputs": [
    {
     "name": "stderr",
     "output_type": "stream",
     "text": [
      "/anaconda2/lib/python2.7/site-packages/ipykernel_launcher.py:2: UserWarning: Update your `Dense` call to the Keras 2 API: `Dense(kernel_initializer=\"uniform\", activation=\"relu\", input_dim=300, units=30)`\n",
      "  \n",
      "/anaconda2/lib/python2.7/site-packages/ipykernel_launcher.py:3: UserWarning: Update your `Dense` call to the Keras 2 API: `Dense(units=10, activation=\"relu\", kernel_initializer=\"uniform\")`\n",
      "  This is separate from the ipykernel package so we can avoid doing imports until\n",
      "/anaconda2/lib/python2.7/site-packages/ipykernel_launcher.py:4: UserWarning: Update your `Dense` call to the Keras 2 API: `Dense(units=1, activation=\"sigmoid\", kernel_initializer=\"uniform\")`\n",
      "  after removing the cwd from sys.path.\n"
     ]
    }
   ],
   "source": [
    "classifier = Sequential()\n",
    "classifier.add(Dense(output_dim=30, init = 'uniform', activation = 'relu', input_dim=X.shape[1]))\n",
    "classifier.add(Dense(output_dim = 10, init = 'uniform', activation = 'relu'))\n",
    "classifier.add(Dense(output_dim = 1, init = 'uniform', activation = 'sigmoid'))"
   ]
  },
  {
   "cell_type": "code",
   "execution_count": 123,
   "metadata": {},
   "outputs": [],
   "source": [
    "classifier.compile(optimizer = \"adam\", loss = 'binary_crossentropy', metrics=['accuracy'])"
   ]
  },
  {
   "cell_type": "code",
   "execution_count": 124,
   "metadata": {},
   "outputs": [
    {
     "name": "stdout",
     "output_type": "stream",
     "text": [
      "Epoch 1/100\n",
      "18800/18800 [==============================] - 2s 88us/step - loss: 0.6500 - acc: 0.7154\n",
      "Epoch 2/100\n",
      "18800/18800 [==============================] - 0s 25us/step - loss: 0.4186 - acc: 0.8315\n",
      "Epoch 3/100\n",
      "18800/18800 [==============================] - 0s 26us/step - loss: 0.3407 - acc: 0.8559\n",
      "Epoch 4/100\n",
      "18800/18800 [==============================] - 0s 25us/step - loss: 0.3252 - acc: 0.8647\n",
      "Epoch 5/100\n",
      "18800/18800 [==============================] - 0s 24us/step - loss: 0.3198 - acc: 0.8658\n",
      "Epoch 6/100\n",
      "18800/18800 [==============================] - 0s 25us/step - loss: 0.3173 - acc: 0.8664\n",
      "Epoch 7/100\n",
      "18800/18800 [==============================] - 0s 25us/step - loss: 0.3135 - acc: 0.8687\n",
      "Epoch 8/100\n",
      "18800/18800 [==============================] - 0s 25us/step - loss: 0.3124 - acc: 0.8687\n",
      "Epoch 9/100\n",
      "18800/18800 [==============================] - 1s 28us/step - loss: 0.3111 - acc: 0.8690\n",
      "Epoch 10/100\n",
      "18800/18800 [==============================] - 0s 26us/step - loss: 0.3103 - acc: 0.8706\n",
      "Epoch 11/100\n",
      "18800/18800 [==============================] - 1s 29us/step - loss: 0.3088 - acc: 0.8706\n",
      "Epoch 12/100\n",
      "18800/18800 [==============================] - 1s 27us/step - loss: 0.3080 - acc: 0.8698\n",
      "Epoch 13/100\n",
      "18800/18800 [==============================] - 0s 26us/step - loss: 0.3066 - acc: 0.8716\n",
      "Epoch 14/100\n",
      "18800/18800 [==============================] - 1s 28us/step - loss: 0.3061 - acc: 0.8714\n",
      "Epoch 15/100\n",
      "18800/18800 [==============================] - 1s 27us/step - loss: 0.3055 - acc: 0.8724\n",
      "Epoch 16/100\n",
      "18800/18800 [==============================] - 1s 27us/step - loss: 0.3044 - acc: 0.8726\n",
      "Epoch 17/100\n",
      "18800/18800 [==============================] - 0s 27us/step - loss: 0.3041 - acc: 0.8712\n",
      "Epoch 18/100\n",
      "18800/18800 [==============================] - 1s 27us/step - loss: 0.3041 - acc: 0.8724\n",
      "Epoch 19/100\n",
      "18800/18800 [==============================] - 1s 27us/step - loss: 0.3026 - acc: 0.8734\n",
      "Epoch 20/100\n",
      "18800/18800 [==============================] - 1s 27us/step - loss: 0.3028 - acc: 0.8715\n",
      "Epoch 21/100\n",
      "18800/18800 [==============================] - 1s 32us/step - loss: 0.3019 - acc: 0.8724\n",
      "Epoch 22/100\n",
      "18800/18800 [==============================] - 1s 30us/step - loss: 0.3017 - acc: 0.8739\n",
      "Epoch 23/100\n",
      "18800/18800 [==============================] - 1s 29us/step - loss: 0.3013 - acc: 0.8735\n",
      "Epoch 24/100\n",
      "18800/18800 [==============================] - 1s 29us/step - loss: 0.3007 - acc: 0.8737\n",
      "Epoch 25/100\n",
      "18800/18800 [==============================] - 1s 27us/step - loss: 0.3020 - acc: 0.8741\n",
      "Epoch 26/100\n",
      "18800/18800 [==============================] - 1s 27us/step - loss: 0.3002 - acc: 0.8737\n",
      "Epoch 27/100\n",
      "18800/18800 [==============================] - 1s 29us/step - loss: 0.2999 - acc: 0.8728\n",
      "Epoch 28/100\n",
      "18800/18800 [==============================] - 1s 30us/step - loss: 0.2992 - acc: 0.8741\n",
      "Epoch 29/100\n",
      "18800/18800 [==============================] - 1s 29us/step - loss: 0.2992 - acc: 0.8751\n",
      "Epoch 30/100\n",
      "18800/18800 [==============================] - 1s 33us/step - loss: 0.2989 - acc: 0.8762: 0s - loss: 0.3151 - \n",
      "Epoch 31/100\n",
      "18800/18800 [==============================] - 0s 26us/step - loss: 0.2982 - acc: 0.8744\n",
      "Epoch 32/100\n",
      "18800/18800 [==============================] - 0s 23us/step - loss: 0.2977 - acc: 0.8744\n",
      "Epoch 33/100\n",
      "18800/18800 [==============================] - 0s 25us/step - loss: 0.2979 - acc: 0.8740\n",
      "Epoch 34/100\n",
      "18800/18800 [==============================] - 1s 29us/step - loss: 0.2981 - acc: 0.8759\n",
      "Epoch 35/100\n",
      "18800/18800 [==============================] - 1s 27us/step - loss: 0.2967 - acc: 0.8761\n",
      "Epoch 36/100\n",
      "18800/18800 [==============================] - 1s 34us/step - loss: 0.2964 - acc: 0.8764\n",
      "Epoch 37/100\n",
      "18800/18800 [==============================] - 1s 29us/step - loss: 0.2963 - acc: 0.8774\n",
      "Epoch 38/100\n",
      "18800/18800 [==============================] - 1s 28us/step - loss: 0.2968 - acc: 0.8759\n",
      "Epoch 39/100\n",
      "18800/18800 [==============================] - 1s 36us/step - loss: 0.2961 - acc: 0.8766\n",
      "Epoch 40/100\n",
      "18800/18800 [==============================] - 1s 34us/step - loss: 0.2961 - acc: 0.8764\n",
      "Epoch 41/100\n",
      "18800/18800 [==============================] - 1s 35us/step - loss: 0.2958 - acc: 0.8779\n",
      "Epoch 42/100\n",
      "18800/18800 [==============================] - 1s 33us/step - loss: 0.2952 - acc: 0.8761\n",
      "Epoch 43/100\n",
      "18800/18800 [==============================] - 1s 30us/step - loss: 0.2946 - acc: 0.8775\n",
      "Epoch 44/100\n",
      "18800/18800 [==============================] - 1s 36us/step - loss: 0.2951 - acc: 0.8762\n",
      "Epoch 45/100\n",
      "18800/18800 [==============================] - 0s 27us/step - loss: 0.2951 - acc: 0.8763\n",
      "Epoch 46/100\n",
      "18800/18800 [==============================] - 1s 32us/step - loss: 0.2948 - acc: 0.8771\n",
      "Epoch 47/100\n",
      "18800/18800 [==============================] - 1s 27us/step - loss: 0.2943 - acc: 0.8760\n",
      "Epoch 48/100\n",
      "18800/18800 [==============================] - 1s 33us/step - loss: 0.2942 - acc: 0.8782\n",
      "Epoch 49/100\n",
      "18800/18800 [==============================] - 1s 34us/step - loss: 0.2935 - acc: 0.8768\n",
      "Epoch 50/100\n",
      "18800/18800 [==============================] - 0s 27us/step - loss: 0.2930 - acc: 0.8773\n",
      "Epoch 51/100\n",
      "18800/18800 [==============================] - 1s 38us/step - loss: 0.2928 - acc: 0.8780\n",
      "Epoch 52/100\n",
      "18800/18800 [==============================] - 1s 32us/step - loss: 0.2924 - acc: 0.8786\n",
      "Epoch 53/100\n",
      "18800/18800 [==============================] - 1s 27us/step - loss: 0.2929 - acc: 0.8782\n",
      "Epoch 54/100\n",
      "18800/18800 [==============================] - 1s 32us/step - loss: 0.2926 - acc: 0.8764\n",
      "Epoch 55/100\n",
      "18800/18800 [==============================] - 0s 26us/step - loss: 0.2921 - acc: 0.8784\n",
      "Epoch 56/100\n",
      "18800/18800 [==============================] - 0s 26us/step - loss: 0.2921 - acc: 0.8773\n",
      "Epoch 57/100\n",
      "18800/18800 [==============================] - 0s 23us/step - loss: 0.2915 - acc: 0.8779\n",
      "Epoch 58/100\n",
      "18800/18800 [==============================] - 1s 31us/step - loss: 0.2916 - acc: 0.8779\n",
      "Epoch 59/100\n",
      "18800/18800 [==============================] - 0s 24us/step - loss: 0.2914 - acc: 0.8781\n",
      "Epoch 60/100\n",
      "18800/18800 [==============================] - 1s 31us/step - loss: 0.2914 - acc: 0.8786\n",
      "Epoch 61/100\n",
      "18800/18800 [==============================] - 1s 30us/step - loss: 0.2907 - acc: 0.8791\n",
      "Epoch 62/100\n",
      "18800/18800 [==============================] - 1s 27us/step - loss: 0.2905 - acc: 0.8775\n",
      "Epoch 63/100\n",
      "18800/18800 [==============================] - 1s 33us/step - loss: 0.2902 - acc: 0.8792\n",
      "Epoch 64/100\n",
      "18800/18800 [==============================] - 1s 30us/step - loss: 0.2899 - acc: 0.8789\n",
      "Epoch 65/100\n",
      "18800/18800 [==============================] - 1s 30us/step - loss: 0.2899 - acc: 0.8791\n",
      "Epoch 66/100\n",
      "18800/18800 [==============================] - 0s 24us/step - loss: 0.2898 - acc: 0.8788\n",
      "Epoch 67/100\n",
      "18800/18800 [==============================] - 1s 30us/step - loss: 0.2894 - acc: 0.8782: 0s - loss: 0.2780 - a\n",
      "Epoch 68/100\n",
      "18800/18800 [==============================] - 0s 26us/step - loss: 0.2893 - acc: 0.8793\n",
      "Epoch 69/100\n",
      "18800/18800 [==============================] - 1s 30us/step - loss: 0.2892 - acc: 0.8791\n",
      "Epoch 70/100\n",
      "18800/18800 [==============================] - 0s 24us/step - loss: 0.2889 - acc: 0.8790\n",
      "Epoch 71/100\n",
      "18800/18800 [==============================] - 0s 24us/step - loss: 0.2887 - acc: 0.8781\n",
      "Epoch 72/100\n",
      "18800/18800 [==============================] - 1s 28us/step - loss: 0.2887 - acc: 0.8785\n",
      "Epoch 73/100\n",
      "18800/18800 [==============================] - ETA: 0s - loss: 0.2876 - acc: 0.879 - 1s 30us/step - loss: 0.2880 - acc: 0.8795\n",
      "Epoch 74/100\n",
      "18800/18800 [==============================] - 0s 26us/step - loss: 0.2882 - acc: 0.8785\n",
      "Epoch 75/100\n",
      "18800/18800 [==============================] - 0s 24us/step - loss: 0.2882 - acc: 0.8795\n",
      "Epoch 76/100\n",
      "18800/18800 [==============================] - 0s 22us/step - loss: 0.2880 - acc: 0.8785\n",
      "Epoch 77/100\n",
      "18800/18800 [==============================] - 0s 22us/step - loss: 0.2869 - acc: 0.8794\n",
      "Epoch 78/100\n",
      "18800/18800 [==============================] - 0s 23us/step - loss: 0.2874 - acc: 0.8793\n",
      "Epoch 79/100\n",
      "18800/18800 [==============================] - 0s 23us/step - loss: 0.2867 - acc: 0.8793\n",
      "Epoch 80/100\n"
     ]
    },
    {
     "name": "stdout",
     "output_type": "stream",
     "text": [
      "18800/18800 [==============================] - 0s 23us/step - loss: 0.2864 - acc: 0.8805\n",
      "Epoch 81/100\n",
      "18800/18800 [==============================] - 0s 23us/step - loss: 0.2867 - acc: 0.8802\n",
      "Epoch 82/100\n",
      "18800/18800 [==============================] - 0s 22us/step - loss: 0.2856 - acc: 0.8805\n",
      "Epoch 83/100\n",
      "18800/18800 [==============================] - 0s 23us/step - loss: 0.2856 - acc: 0.8795\n",
      "Epoch 84/100\n",
      "18800/18800 [==============================] - 0s 24us/step - loss: 0.2856 - acc: 0.8802\n",
      "Epoch 85/100\n",
      "18800/18800 [==============================] - 0s 24us/step - loss: 0.2855 - acc: 0.8802\n",
      "Epoch 86/100\n",
      "18800/18800 [==============================] - 0s 24us/step - loss: 0.2847 - acc: 0.8804\n",
      "Epoch 87/100\n",
      "18800/18800 [==============================] - 0s 25us/step - loss: 0.2856 - acc: 0.8802\n",
      "Epoch 88/100\n",
      "18800/18800 [==============================] - 0s 25us/step - loss: 0.2840 - acc: 0.8815\n",
      "Epoch 89/100\n",
      "18800/18800 [==============================] - 0s 24us/step - loss: 0.2834 - acc: 0.8803\n",
      "Epoch 90/100\n",
      "18800/18800 [==============================] - 0s 25us/step - loss: 0.2836 - acc: 0.8820\n",
      "Epoch 91/100\n",
      "18800/18800 [==============================] - 0s 24us/step - loss: 0.2824 - acc: 0.8809\n",
      "Epoch 92/100\n",
      "18800/18800 [==============================] - 0s 24us/step - loss: 0.2822 - acc: 0.8818\n",
      "Epoch 93/100\n",
      "18800/18800 [==============================] - 0s 23us/step - loss: 0.2823 - acc: 0.8814\n",
      "Epoch 94/100\n",
      "18800/18800 [==============================] - 0s 23us/step - loss: 0.2811 - acc: 0.8826\n",
      "Epoch 95/100\n",
      "18800/18800 [==============================] - 0s 23us/step - loss: 0.2812 - acc: 0.8818\n",
      "Epoch 96/100\n",
      "18800/18800 [==============================] - 0s 23us/step - loss: 0.2802 - acc: 0.8832\n",
      "Epoch 97/100\n",
      "18800/18800 [==============================] - 0s 23us/step - loss: 0.2800 - acc: 0.8828\n",
      "Epoch 98/100\n",
      "18800/18800 [==============================] - 1s 28us/step - loss: 0.2794 - acc: 0.8829\n",
      "Epoch 99/100\n",
      "18800/18800 [==============================] - 0s 25us/step - loss: 0.2795 - acc: 0.8819\n",
      "Epoch 100/100\n",
      "18800/18800 [==============================] - 0s 24us/step - loss: 0.2792 - acc: 0.8824\n"
     ]
    },
    {
     "data": {
      "text/plain": [
       "<keras.callbacks.History at 0x1a5d9ea3d0>"
      ]
     },
     "execution_count": 124,
     "metadata": {},
     "output_type": "execute_result"
    }
   ],
   "source": [
    "classifier.fit(X_train, y_train, batch_size = 128, epochs = 100)"
   ]
  },
  {
   "cell_type": "code",
   "execution_count": 141,
   "metadata": {},
   "outputs": [],
   "source": [
    "y_pred = classifier.predict(X_test)\n",
    "y_pred = (y_pred > 0.5)"
   ]
  },
  {
   "cell_type": "code",
   "execution_count": 143,
   "metadata": {},
   "outputs": [
    {
     "data": {
      "text/plain": [
       "array([[0.93707824],\n",
       "       [0.93623483],\n",
       "       [0.18481816],\n",
       "       ...,\n",
       "       [0.03909864],\n",
       "       [0.93115544],\n",
       "       [0.67670614]], dtype=float32)"
      ]
     },
     "execution_count": 143,
     "metadata": {},
     "output_type": "execute_result"
    }
   ],
   "source": [
    "y_pred "
   ]
  },
  {
   "cell_type": "code",
   "execution_count": 127,
   "metadata": {},
   "outputs": [],
   "source": [
    "cm = confusion_matrix(y_test, y_pred)"
   ]
  },
  {
   "cell_type": "code",
   "execution_count": 138,
   "metadata": {},
   "outputs": [],
   "source": [
    "accuracy = float(cm[0][0] + cm[1][1]) / float(cm.sum())"
   ]
  },
  {
   "cell_type": "code",
   "execution_count": 139,
   "metadata": {},
   "outputs": [
    {
     "data": {
      "text/plain": [
       "0.8729787234042553"
      ]
     },
     "execution_count": 139,
     "metadata": {},
     "output_type": "execute_result"
    }
   ],
   "source": [
    "accuracy"
   ]
  }
 ],
 "metadata": {
  "kernelspec": {
   "display_name": "Python 2",
   "language": "python",
   "name": "python2"
  },
  "language_info": {
   "codemirror_mode": {
    "name": "ipython",
    "version": 2
   },
   "file_extension": ".py",
   "mimetype": "text/x-python",
   "name": "python",
   "nbconvert_exporter": "python",
   "pygments_lexer": "ipython2",
   "version": "2.7.15"
  }
 },
 "nbformat": 4,
 "nbformat_minor": 2
}
